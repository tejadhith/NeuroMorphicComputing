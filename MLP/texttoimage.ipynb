{
 "cells": [
  {
   "cell_type": "code",
   "execution_count": 7,
   "metadata": {},
   "outputs": [],
   "source": [
    "import pandas as pd\n",
    "import numpy as np\n",
    "import matplotlib.pyplot as plt"
   ]
  },
  {
   "cell_type": "code",
   "execution_count": 8,
   "metadata": {},
   "outputs": [],
   "source": [
    "df = pd.read_fwf(\"MNIST_data/patch10000_test.txt\", header = None)\n"
   ]
  },
  {
   "cell_type": "code",
   "execution_count": 9,
   "metadata": {},
   "outputs": [
    {
     "data": {
      "image/png": "[encoded data removed]",
      "text/plain": [
       "<Figure size 432x288 with 1 Axes>"
      ]
     },
     "metadata": {
      "needs_background": "light"
     },
     "output_type": "display_data"
    }
   ],
   "source": [
    "def text_img(array) :\n",
    "    img = np.zeros((20,20), dtype = np.uint8)\n",
    "    for i in range(0,20) :\n",
    "        for j in range(0,20) :\n",
    "          img[i, j] = 255 * array[(i*20) + j]\n",
    "    return img\n",
    "\n",
    "array = df.iloc[:, 0]\n",
    "\n",
    "img = text_img(array)\n",
    "\n",
    "plt.imshow(img[:,:], cmap = \"gray\")\n",
    "plt.show()"
   ]
  },
  {
   "cell_type": "code",
   "execution_count": 10,
   "metadata": {},
   "outputs": [],
   "source": [
    "def unpickle(file):\n",
    "    import pickle\n",
    "    with open(file, 'rb') as fo:\n",
    "        dict = pickle.load(fo, encoding='bytes')\n",
    "    return dict\n",
    "\n",
    "dict = unpickle('cifar10-python/data_batch_1')\n",
    "data_1 = dict[b'data']\n",
    "data_1 = (1/255)*(data_1)\n",
    "data_1_label = dict[b'labels']\n",
    "dict = unpickle('cifar10-python/data_batch_2')\n",
    "data_2 = dict[b'data']\n",
    "data_2 = (1/255)*(data_2)\n",
    "data_2_label = dict[b'labels']\n",
    "dict = unpickle('cifar10-python/data_batch_3')\n",
    "data_3 = dict[b'data']\n",
    "data_3 = (1/255)*(data_3)\n",
    "data_3_label = dict[b'labels']\n",
    "dict = unpickle('cifar10-python/data_batch_4')\n",
    "data_4 = dict[b'data']\n",
    "data_4 = (1/255)*(data_4)\n",
    "data_4_label = dict[b'labels']\n",
    "dict = unpickle('cifar10-python/data_batch_5')\n",
    "data_5 = dict[b'data']\n",
    "data_5 = (1/255)*(data_5)\n",
    "data_5_label = dict[b'labels']\n",
    "# np.savetxt('cifar10_data/data_batch_1.txt', data, fmt = '%f')"
   ]
  },
  {
   "cell_type": "code",
   "execution_count": 18,
   "metadata": {},
   "outputs": [],
   "source": [
    "data = np.concatenate((data_1, data_2, data_3, data_4, data_5), axis = 0)\n",
    "data = np.transpose(data)\n",
    "# data_label = np.concatenate((data_1_label, data_2_label, data_3_label, data_4_label, data_5_label), axis = 0)\n",
    "np.savetxt('cifar10_data/train_batch.txt', data, fmt = '%f')\n",
    "# np.savetxt('cifar10_data/train_batch_label.txt', data_label, fmt = '%i')"
   ]
  },
  {
   "cell_type": "code",
   "execution_count": 20,
   "metadata": {},
   "outputs": [
    {
     "data": {
      "text/plain": [
       "(3072, 50000)"
      ]
     },
     "execution_count": 20,
     "metadata": {},
     "output_type": "execute_result"
    }
   ],
   "source": [
    "data.shape"
   ]
  },
  {
   "cell_type": "code",
   "execution_count": 13,
   "metadata": {},
   "outputs": [],
   "source": [
    "data_label = dict[b'labels']\n",
    "np.savetxt('cifar10_data/data_batch_1_label.txt', data_label, fmt = '%i')"
   ]
  },
  {
   "cell_type": "code",
   "execution_count": 14,
   "metadata": {},
   "outputs": [],
   "source": [
    "df = pd.read_fwf(\"cifar10_data/data_batch_1.txt\", header = None)"
   ]
  },
  {
   "cell_type": "code",
   "execution_count": 15,
   "metadata": {},
   "outputs": [
    {
     "data": {
      "image/png": "[encoded data removed]",
      "text/plain": [
       "<Figure size 432x288 with 1 Axes>"
      ]
     },
     "metadata": {
      "needs_background": "light"
     },
     "output_type": "display_data"
    }
   ],
   "source": [
    "def text_img(array) :\n",
    "    img = np.zeros((32,32,3), dtype = np.uint8)\n",
    "    for i in range(0,32) :\n",
    "        for j in range(0,32) :\n",
    "          for k in range(0,3) :\n",
    "            img[i, j, k] = 255 * array[(i*32) + j + (k*1024)]\n",
    "    return img\n",
    "\n",
    "array = df.iloc[8, :]\n",
    "\n",
    "img = text_img(array)\n",
    "\n",
    "plt.imshow(img)\n",
    "plt.show()"
   ]
  },
  {
   "cell_type": "code",
   "execution_count": 16,
   "metadata": {},
   "outputs": [],
   "source": [
    "a = [[1,2],[2,3]]\n",
    "b = [[0,1],[1,2],[5,4]]\n",
    "\n",
    "c = np.concatenate((a,b), axis = 0)"
   ]
  },
  {
   "cell_type": "code",
   "execution_count": 17,
   "metadata": {},
   "outputs": [
    {
     "name": "stdout",
     "output_type": "stream",
     "text": [
      "[[1 2]\n",
      " [2 3]\n",
      " [0 1]\n",
      " [1 2]\n",
      " [5 4]]\n"
     ]
    }
   ],
   "source": [
    "print(c)"
   ]
  }
 ],
 "metadata": {
  "kernelspec": {
   "display_name": "base",
   "language": "python",
   "name": "python3"
  },
  "language_info": {
   "codemirror_mode": {
    "name": "ipython",
    "version": 3
   },
   "file_extension": ".py",
   "mimetype": "text/x-python",
   "name": "python",
   "nbconvert_exporter": "python",
   "pygments_lexer": "ipython3",
   "version": "3.9.12"
  },
  "orig_nbformat": 4
 },
 "nbformat": 4,
 "nbformat_minor": 2
}
